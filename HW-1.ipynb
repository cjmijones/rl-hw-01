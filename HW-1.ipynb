{
 "cells": [
  {
   "cell_type": "markdown",
   "id": "d7b1c5ff",
   "metadata": {},
   "source": [
    "# DSAN 6650: Homework 1\n",
    "\n",
    "### Submitter: CJ Jones"
   ]
  },
  {
   "cell_type": "code",
   "execution_count": null,
   "id": "208c2f12",
   "metadata": {
    "vscode": {
     "languageId": "plaintext"
    }
   },
   "outputs": [],
   "source": []
  },
  {
   "cell_type": "markdown",
   "id": "85598b32",
   "metadata": {},
   "source": []
  }
 ],
 "metadata": {
  "language_info": {
   "name": "python"
  }
 },
 "nbformat": 4,
 "nbformat_minor": 5
}
